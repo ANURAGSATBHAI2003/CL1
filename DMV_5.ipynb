{
 "cells": [
  {
   "cell_type": "code",
   "execution_count": 1,
   "id": "05afd947",
   "metadata": {},
   "outputs": [],
   "source": [
    "import pandas as pd"
   ]
  },
  {
   "cell_type": "code",
   "execution_count": 4,
   "id": "4dc564c8",
   "metadata": {},
   "outputs": [
    {
     "ename": "TypeError",
     "evalue": "read_csv() missing 1 required positional argument: 'filepath_or_buffer'",
     "output_type": "error",
     "traceback": [
      "\u001b[1;31m---------------------------------------------------------------------------\u001b[0m",
      "\u001b[1;31mTypeError\u001b[0m                                 Traceback (most recent call last)",
      "Cell \u001b[1;32mIn[4], line 1\u001b[0m\n\u001b[1;32m----> 1\u001b[0m aqi \u001b[38;5;241m=\u001b[39m pd\u001b[38;5;241m.\u001b[39mread_csv()\n",
      "\u001b[1;31mTypeError\u001b[0m: read_csv() missing 1 required positional argument: 'filepath_or_buffer'"
     ]
    }
   ],
   "source": [
    "aqi = pd.read_csv()"
   ]
  },
  {
   "cell_type": "code",
   "execution_count": 5,
   "id": "19ba15ce",
   "metadata": {},
   "outputs": [
    {
     "ename": "NameError",
     "evalue": "name 'aqi' is not defined",
     "output_type": "error",
     "traceback": [
      "\u001b[1;31m---------------------------------------------------------------------------\u001b[0m",
      "\u001b[1;31mNameError\u001b[0m                                 Traceback (most recent call last)",
      "Cell \u001b[1;32mIn[5], line 1\u001b[0m\n\u001b[1;32m----> 1\u001b[0m aqi\u001b[38;5;241m.\u001b[39mhead()\n",
      "\u001b[1;31mNameError\u001b[0m: name 'aqi' is not defined"
     ]
    }
   ],
   "source": [
    "aqi.head()"
   ]
  },
  {
   "cell_type": "code",
   "execution_count": null,
   "id": "5416fd21",
   "metadata": {},
   "outputs": [],
   "source": [
    "aqi.columns"
   ]
  },
  {
   "cell_type": "code",
   "execution_count": null,
   "id": "caf078ee",
   "metadata": {},
   "outputs": [],
   "source": [
    "aqi.shape"
   ]
  },
  {
   "cell_type": "code",
   "execution_count": null,
   "id": "3316719d",
   "metadata": {},
   "outputs": [],
   "source": [
    "aqi.info()"
   ]
  },
  {
   "cell_type": "code",
   "execution_count": null,
   "id": "6f971bfe",
   "metadata": {},
   "outputs": [],
   "source": [
    "aqi['date'] = pd.to_datetime(aqi['date'])"
   ]
  },
  {
   "cell_type": "code",
   "execution_count": null,
   "id": "396f104c",
   "metadata": {},
   "outputs": [],
   "source": [
    "aqi.dtypes"
   ]
  },
  {
   "cell_type": "code",
   "execution_count": null,
   "id": "49e488fd",
   "metadata": {},
   "outputs": [],
   "source": [
    "aqi.describe()"
   ]
  },
  {
   "cell_type": "code",
   "execution_count": null,
   "id": "3e117c4e",
   "metadata": {},
   "outputs": [],
   "source": [
    "num_cols = ['so2', 'no2', 'rspm', 'spm', 'pm2_5']\n",
    "\n",
    "for col in num_cols:\n",
    "    aqi[col].fillna(aqi[col].mean(),inplace=True)"
   ]
  },
  {
   "cell_type": "code",
   "execution_count": null,
   "id": "d5df0ca4",
   "metadata": {},
   "outputs": [],
   "source": [
    "\n",
    "aqi.isna().sum()"
   ]
  },
  {
   "cell_type": "code",
   "execution_count": null,
   "id": "439df98a",
   "metadata": {},
   "outputs": [],
   "source": [
    "aqi['year'] = aqi['date'].dt.year"
   ]
  },
  {
   "cell_type": "code",
   "execution_count": null,
   "id": "4348904f",
   "metadata": {},
   "outputs": [],
   "source": [
    "aqi.head()"
   ]
  },
  {
   "cell_type": "code",
   "execution_count": null,
   "id": "b49fe1d4",
   "metadata": {},
   "outputs": [],
   "source": [
    "no2= aqi.groupby('year').agg({'no2':'mean'})\n",
    "so2= aqi.groupby('year').agg({'so2':'mean'})\n",
    "pm10= aqi.groupby('year').agg({'rspm':'mean'})\n",
    "spm= aqi.groupby('year').agg({'spm':'mean'})\n",
    "pm2_5= aqi.groupby('year').agg({'pm2_5':'mean'})"
   ]
  },
  {
   "cell_type": "code",
   "execution_count": null,
   "id": "c5511a19",
   "metadata": {},
   "outputs": [],
   "source": [
    "import matplotlib.pyplot as plt\n",
    "# plt.figure(figsize=(10, 6))\n",
    "plt.plot(pm2_5, label='PM2.5', color='blue')\n",
    "plt.plot(pm10, label='PM10', color='green')\n",
    "# plt.title('AQI Trend Over Time')\n",
    "# plt.xlabel('Date')\n",
    "# plt.ylabel('Pollutant Levels')\n",
    "plt.legend()\n",
    "# plt.grid(True)\n",
    "# plt.show()"
   ]
  },
  {
   "cell_type": "code",
   "execution_count": null,
   "id": "649e9359",
   "metadata": {},
   "outputs": [],
   "source": [
    "# PM2.5\n",
    "# plt.figure(figsize=(5,4))\n",
    "plt.plot(pm2_5, label='PM2.5', color='blue')\n",
    "# plt.title('PM2.5 Levels Over Time')\n",
    "# plt.xlabel('Date')\n",
    "# plt.ylabel('PM2.5 (µg/m³)')\n",
    "# plt.grid(True)\n",
    "plt.show()\n",
    "\n",
    "# PM10\n",
    "# plt.figure(figsize=(5,4))\n",
    "plt.plot(pm10, label='PM10', color='green')\n",
    "# plt.title('PM10 Levels Over Time')\n",
    "# plt.xlabel('Date')\n",
    "# plt.ylabel('PM10 (µg/m³)')\n",
    "# plt.grid(True)\n",
    "plt.show()\n",
    "\n",
    "# SO2\n",
    "# plt.figure(figsize=(5,4))\n",
    "plt.plot(so2, label='SO2', color='red')\n",
    "# plt.title('SO2 Levels Over Time')\n",
    "# plt.xlabel('Date')\n",
    "# plt.ylabel('SO2 (µg/m³)')\n",
    "# plt.grid(True)\n",
    "plt.show()\n",
    "\n",
    "# NO2\n",
    "# plt.figure(figsize=(5,4))\n",
    "plt.plot(no2, label='NO2', color='orange')\n",
    "# plt.title('NO2 Levels Over Time')\n",
    "# plt.xlabel('Date')\n",
    "# plt.ylabel('NO2 (µg/m³)')\n",
    "# plt.grid(True)\n",
    "plt.show()"
   ]
  },
  {
   "cell_type": "code",
   "execution_count": null,
   "id": "022b02d2",
   "metadata": {},
   "outputs": [],
   "source": [
    "spm.values.ravel()"
   ]
  },
  {
   "cell_type": "code",
   "execution_count": null,
   "id": "72f8bc6c",
   "metadata": {},
   "outputs": [],
   "source": [
    "# plt.figure(figsize=(10, 5))\n",
    "plt.bar(spm.index,spm.values.ravel(),color='purple')\n",
    "# plt.title('Average spm Levels on Different Dates')\n",
    "# plt.xlabel('Date')\n",
    "# plt.ylabel('Average spm (µg/m³)')\n",
    "# plt.xticks(rotation=90)\n",
    "# plt.show()"
   ]
  },
  {
   "cell_type": "code",
   "execution_count": null,
   "id": "d3ddd67c",
   "metadata": {},
   "outputs": [],
   "source": [
    "# plt.figure(figsize=(10, 5))\n",
    "plt.bar(no2.index,no2.values.ravel(),color='green')\n",
    "# plt.title('Average NO2 Levels on Different Dates')\n",
    "# plt.xlabel('Date')\n",
    "# plt.ylabel('Average NO2 (µg/m³)')\n",
    "# plt.xticks(rotation=90)\n",
    "# plt.show()"
   ]
  },
  {
   "cell_type": "code",
   "execution_count": null,
   "id": "025deb62",
   "metadata": {},
   "outputs": [],
   "source": [
    "import seaborn as sns"
   ]
  },
  {
   "cell_type": "code",
   "execution_count": null,
   "id": "51494624",
   "metadata": {},
   "outputs": [],
   "source": [
    "sns.boxplot(pm10)"
   ]
  },
  {
   "cell_type": "code",
   "execution_count": null,
   "id": "3c80f7e0",
   "metadata": {},
   "outputs": [],
   "source": [
    "sns.boxplot(no2)"
   ]
  },
  {
   "cell_type": "code",
   "execution_count": null,
   "id": "316b588a",
   "metadata": {},
   "outputs": [],
   "source": [
    "sns.violinplot(pm10)"
   ]
  },
  {
   "cell_type": "code",
   "execution_count": null,
   "id": "2343f23c",
   "metadata": {},
   "outputs": [],
   "source": [
    "plt.scatter(no2.values,so2.values,color='green')\n",
    "plt.xlabel('no2')\n",
    "plt.ylabel('so2')\n",
    "plt.title('no2 vs so2');"
   ]
  },
  {
   "cell_type": "code",
   "execution_count": null,
   "id": "7649f81f",
   "metadata": {},
   "outputs": [],
   "source": []
  }
 ],
 "metadata": {
  "kernelspec": {
   "display_name": "Python 3 (ipykernel)",
   "language": "python",
   "name": "python3"
  },
  "language_info": {
   "codemirror_mode": {
    "name": "ipython",
    "version": 3
   },
   "file_extension": ".py",
   "mimetype": "text/x-python",
   "name": "python",
   "nbconvert_exporter": "python",
   "pygments_lexer": "ipython3",
   "version": "3.11.5"
  }
 },
 "nbformat": 4,
 "nbformat_minor": 5
}
